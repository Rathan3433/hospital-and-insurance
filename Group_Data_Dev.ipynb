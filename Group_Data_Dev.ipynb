{
 "cells": [
  {
   "cell_type": "code",
   "execution_count": 0,
   "metadata": {
    "application/vnd.databricks.v1+cell": {
     "cellMetadata": {
      "byteLimit": 2048000,
      "rowLimit": 10000
     },
     "inputWidgets": {},
     "nuid": "3c2bd184-a541-44fa-857c-039f15d1305e",
     "showTitle": false,
     "title": ""
    }
   },
   "outputs": [],
   "source": [
    "import pyspark\n",
    "from pyspark.sql import *\n",
    "from pyspark.sql.functions import *\n",
    "from pyspark.sql.types import *"
   ]
  },
  {
   "cell_type": "code",
   "execution_count": 0,
   "metadata": {
    "application/vnd.databricks.v1+cell": {
     "cellMetadata": {
      "byteLimit": 2048000,
      "rowLimit": 10000
     },
     "inputWidgets": {},
     "nuid": "13705b71-092f-4a15-9c3e-ddac00eaa9d6",
     "showTitle": false,
     "title": ""
    }
   },
   "outputs": [
    {
     "output_type": "execute_result",
     "data": {
      "text/plain": [
       "[SecretScope(name='optumscope'), SecretScope(name='optumscope1')]"
      ]
     },
     "execution_count": 3,
     "metadata": {},
     "output_type": "execute_result"
    }
   ],
   "source": [
    "dbutils.secrets.listScopes()"
   ]
  },
  {
   "cell_type": "code",
   "execution_count": 0,
   "metadata": {
    "application/vnd.databricks.v1+cell": {
     "cellMetadata": {
      "byteLimit": 2048000,
      "rowLimit": 10000
     },
     "inputWidgets": {},
     "nuid": "963951f9-c9e0-4b56-be3b-442753cea4f3",
     "showTitle": false,
     "title": ""
    }
   },
   "outputs": [
    {
     "output_type": "execute_result",
     "data": {
      "text/plain": [
       "[SecretMetadata(key='optumkeysstore')]"
      ]
     },
     "execution_count": 4,
     "metadata": {},
     "output_type": "execute_result"
    }
   ],
   "source": [
    "dbutils.secrets.list(scope = \"optumscope1\")"
   ]
  },
  {
   "cell_type": "code",
   "execution_count": 0,
   "metadata": {
    "application/vnd.databricks.v1+cell": {
     "cellMetadata": {
      "byteLimit": 2048000,
      "rowLimit": 10000
     },
     "inputWidgets": {},
     "nuid": "006851fe-135d-44a2-a4ae-733f0502e14b",
     "showTitle": false,
     "title": ""
    }
   },
   "outputs": [],
   "source": [
    "spark.conf.set(\n",
    "    \"fs.azure.account.key.ksrdatadlsa.dfs.core.windows.net\",\n",
    "    dbutils.secrets.get(scope=\"optumscope1\", key=\"optumkeysstore\"))"
   ]
  },
  {
   "cell_type": "code",
   "execution_count": 0,
   "metadata": {
    "application/vnd.databricks.v1+cell": {
     "cellMetadata": {
      "byteLimit": 2048000,
      "rowLimit": 10000
     },
     "inputWidgets": {},
     "nuid": "b24a3a4c-f08d-4a51-a95d-92b6e1dbbabf",
     "showTitle": false,
     "title": ""
    }
   },
   "outputs": [
    {
     "output_type": "display_data",
     "data": {
      "text/html": [
       "<style scoped>\n",
       "  .table-result-container {\n",
       "    max-height: 300px;\n",
       "    overflow: auto;\n",
       "  }\n",
       "  table, th, td {\n",
       "    border: 1px solid black;\n",
       "    border-collapse: collapse;\n",
       "  }\n",
       "  th, td {\n",
       "    padding: 5px;\n",
       "  }\n",
       "  th {\n",
       "    text-align: left;\n",
       "  }\n",
       "</style><div class='table-result-container'><table class='table-result'><thead style='background-color: white'><tr><th>path</th><th>name</th><th>size</th><th>modificationTime</th></tr></thead><tbody><tr><td>abfss://optumdata@ksrdatadlsa.dfs.core.windows.net/RawData/Claims.csv</td><td>Claims.csv</td><td>5766</td><td>1715061116000</td></tr><tr><td>abfss://optumdata@ksrdatadlsa.dfs.core.windows.net/RawData/Hospital.csv</td><td>Hospital.csv</td><td>1528</td><td>1715061121000</td></tr><tr><td>abfss://optumdata@ksrdatadlsa.dfs.core.windows.net/RawData/Patient_records.csv</td><td>Patient_records.csv</td><td>5110</td><td>1715018546000</td></tr><tr><td>abfss://optumdata@ksrdatadlsa.dfs.core.windows.net/RawData/disease.csv</td><td>disease.csv</td><td>1489</td><td>1715018546000</td></tr><tr><td>abfss://optumdata@ksrdatadlsa.dfs.core.windows.net/RawData/group.csv</td><td>group.csv</td><td>4390</td><td>1715018546000</td></tr><tr><td>abfss://optumdata@ksrdatadlsa.dfs.core.windows.net/RawData/subgroup.csv</td><td>subgroup.csv</td><td>561</td><td>1715018546000</td></tr><tr><td>abfss://optumdata@ksrdatadlsa.dfs.core.windows.net/RawData/subscriber.csv</td><td>subscriber.csv</td><td>12061</td><td>1715018546000</td></tr></tbody></table></div>"
      ]
     },
     "metadata": {
      "application/vnd.databricks.v1+output": {
       "addedWidgets": {},
       "aggData": [],
       "aggError": "",
       "aggOverflow": false,
       "aggSchema": [],
       "aggSeriesLimitReached": false,
       "aggType": "",
       "arguments": {},
       "columnCustomDisplayInfos": {},
       "data": [
        [
         "abfss://optumdata@ksrdatadlsa.dfs.core.windows.net/RawData/Claims.csv",
         "Claims.csv",
         5766,
         1715061116000
        ],
        [
         "abfss://optumdata@ksrdatadlsa.dfs.core.windows.net/RawData/Hospital.csv",
         "Hospital.csv",
         1528,
         1715061121000
        ],
        [
         "abfss://optumdata@ksrdatadlsa.dfs.core.windows.net/RawData/Patient_records.csv",
         "Patient_records.csv",
         5110,
         1715018546000
        ],
        [
         "abfss://optumdata@ksrdatadlsa.dfs.core.windows.net/RawData/disease.csv",
         "disease.csv",
         1489,
         1715018546000
        ],
        [
         "abfss://optumdata@ksrdatadlsa.dfs.core.windows.net/RawData/group.csv",
         "group.csv",
         4390,
         1715018546000
        ],
        [
         "abfss://optumdata@ksrdatadlsa.dfs.core.windows.net/RawData/subgroup.csv",
         "subgroup.csv",
         561,
         1715018546000
        ],
        [
         "abfss://optumdata@ksrdatadlsa.dfs.core.windows.net/RawData/subscriber.csv",
         "subscriber.csv",
         12061,
         1715018546000
        ]
       ],
       "datasetInfos": [],
       "dbfsResultPath": null,
       "isJsonSchema": true,
       "metadata": {},
       "overflow": false,
       "plotOptions": {
        "customPlotOptions": {},
        "displayType": "table",
        "pivotAggregation": null,
        "pivotColumns": null,
        "xColumns": null,
        "yColumns": null
       },
       "removedWidgets": [],
       "schema": [
        {
         "metadata": "{}",
         "name": "path",
         "type": "\"string\""
        },
        {
         "metadata": "{}",
         "name": "name",
         "type": "\"string\""
        },
        {
         "metadata": "{}",
         "name": "size",
         "type": "\"long\""
        },
        {
         "metadata": "{}",
         "name": "modificationTime",
         "type": "\"long\""
        }
       ],
       "type": "table"
      }
     },
     "output_type": "display_data"
    }
   ],
   "source": [
    "display(dbutils.fs.ls(\"abfss://optumdata@ksrdatadlsa.dfs.core.windows.net/RawData\"))\n",
    "                      "
   ]
  },
  {
   "cell_type": "code",
   "execution_count": 0,
   "metadata": {
    "application/vnd.databricks.v1+cell": {
     "cellMetadata": {
      "byteLimit": 2048000,
      "rowLimit": 10000
     },
     "inputWidgets": {},
     "nuid": "82eca4b1-e2d4-4b2f-9681-f4c6f07e1d5f",
     "showTitle": false,
     "title": ""
    }
   },
   "outputs": [],
   "source": [
    "Group = spark.read.csv(\"abfss://optumdata@ksrdatadlsa.dfs.core.windows.net/RawData/group.csv\",header=True, inferSchema=True,escape='\"')"
   ]
  },
  {
   "cell_type": "code",
   "execution_count": 0,
   "metadata": {
    "application/vnd.databricks.v1+cell": {
     "cellMetadata": {
      "byteLimit": 2048000,
      "rowLimit": 10000
     },
     "inputWidgets": {},
     "nuid": "78d23725-4508-4754-b6c7-fe0dab5d8b7a",
     "showTitle": false,
     "title": ""
    }
   },
   "outputs": [
    {
     "output_type": "stream",
     "name": "stdout",
     "output_type": "stream",
     "text": [
      "+-------+---------------+--------+------+----------------------------------------+--------+------+\n|country|premium_written|zip_code|grp_id|grp_name                                |grp_type|city  |\n+-------+---------------+--------+------+----------------------------------------+--------+------+\n|India  |72000          |482018  |GRP101|Life Insurance Corporation of India     |Govt.   |Mumbai|\n|India  |45000          |482049  |GRP102|HDFC Standard Life Insurance Co. Ltd.   |Private |Mumbai|\n|India  |64000          |482030  |GRP103|Max Life Insurance Co. Ltd.             |Private |Delhi |\n|India  |59000          |482028  |GRP104|ICICI Prudential Life Insurance Co. Ltd.|Private |Mumbai|\n|India  |37000          |482014  |GRP105|Kotak Mahindra Life Insurance Co. Ltd.  |Private |Mumbai|\n+-------+---------------+--------+------+----------------------------------------+--------+------+\nonly showing top 5 rows\n\n"
     ]
    }
   ],
   "source": [
    "Group.show(5,False)"
   ]
  },
  {
   "cell_type": "code",
   "execution_count": 0,
   "metadata": {
    "application/vnd.databricks.v1+cell": {
     "cellMetadata": {
      "byteLimit": 2048000,
      "rowLimit": 10000
     },
     "inputWidgets": {},
     "nuid": "5904eb0f-ac60-4c89-8c7d-eee9dc4469d1",
     "showTitle": false,
     "title": ""
    }
   },
   "outputs": [
    {
     "output_type": "stream",
     "name": "stdout",
     "output_type": "stream",
     "text": [
      "root\n |-- country: string (nullable = true)\n |-- premium_written: integer (nullable = true)\n |-- zip_code: integer (nullable = true)\n |-- grp_id: string (nullable = true)\n |-- grp_name: string (nullable = true)\n |-- grp_type: string (nullable = true)\n |-- city: string (nullable = true)\n\n"
     ]
    }
   ],
   "source": [
    "# to find the Data types columns present in the table\n",
    "Group.printSchema()"
   ]
  },
  {
   "cell_type": "code",
   "execution_count": 0,
   "metadata": {
    "application/vnd.databricks.v1+cell": {
     "cellMetadata": {
      "byteLimit": 2048000,
      "rowLimit": 10000
     },
     "inputWidgets": {},
     "nuid": "f21eff21-fb79-4ae1-8387-68f063fc9705",
     "showTitle": false,
     "title": ""
    }
   },
   "outputs": [
    {
     "output_type": "execute_result",
     "data": {
      "text/plain": [
       "(58, 7)"
      ]
     },
     "execution_count": 11,
     "metadata": {},
     "output_type": "execute_result"
    }
   ],
   "source": [
    "# to find Rows count and Cloumn Count\n",
    "Group.count(),len(Group.columns)"
   ]
  },
  {
   "cell_type": "code",
   "execution_count": 0,
   "metadata": {
    "application/vnd.databricks.v1+cell": {
     "cellMetadata": {
      "byteLimit": 2048000,
      "rowLimit": 10000
     },
     "inputWidgets": {},
     "nuid": "5c3f24ba-cf5b-4004-8c07-3b21fe7de539",
     "showTitle": false,
     "title": ""
    }
   },
   "outputs": [],
   "source": [
    "# drop duplicates\n",
    "Group = Group.dropDuplicates()"
   ]
  },
  {
   "cell_type": "code",
   "execution_count": 0,
   "metadata": {
    "application/vnd.databricks.v1+cell": {
     "cellMetadata": {
      "byteLimit": 2048000,
      "rowLimit": 10000
     },
     "inputWidgets": {},
     "nuid": "46d49199-5838-4bd1-9bd1-78d6c3b4de89",
     "showTitle": false,
     "title": ""
    }
   },
   "outputs": [
    {
     "output_type": "execute_result",
     "data": {
      "text/plain": [
       "(58, 7)"
      ]
     },
     "execution_count": 15,
     "metadata": {},
     "output_type": "execute_result"
    }
   ],
   "source": [
    "# to verify Rows count and Cloumn Count\n",
    "Group.count(),len(Group.columns)"
   ]
  },
  {
   "cell_type": "code",
   "execution_count": 0,
   "metadata": {
    "application/vnd.databricks.v1+cell": {
     "cellMetadata": {
      "byteLimit": 2048000,
      "rowLimit": 10000
     },
     "inputWidgets": {},
     "nuid": "ca51b602-72cd-4346-a4c4-f355503303d9",
     "showTitle": false,
     "title": ""
    }
   },
   "outputs": [
    {
     "output_type": "stream",
     "name": "stdout",
     "output_type": "stream",
     "text": [
      "+-------+---------------+--------+------+--------+--------+----+\n|country|premium_written|zip_code|grp_id|grp_name|grp_type|city|\n+-------+---------------+--------+------+--------+--------+----+\n|      0|              0|       0|     0|       0|       0|   0|\n+-------+---------------+--------+------+--------+--------+----+\n\n"
     ]
    }
   ],
   "source": [
    "# To find null values\n",
    "Group.select([count(when(isnan(c) | col(c).isNull(), c)).alias(c) for c in Group.columns]).show()"
   ]
  },
  {
   "cell_type": "code",
   "execution_count": 0,
   "metadata": {
    "application/vnd.databricks.v1+cell": {
     "cellMetadata": {
      "byteLimit": 2048000,
      "rowLimit": 10000
     },
     "inputWidgets": {},
     "nuid": "aeb8f969-5947-4cd8-beb4-0d3bcf06a345",
     "showTitle": false,
     "title": ""
    }
   },
   "outputs": [
    {
     "output_type": "stream",
     "name": "stdout",
     "output_type": "stream",
     "text": [
      "+-------+---------------+--------+------+-------------------------------------------------------------+--------+---------+\n|country|premium_written|zip_code|grp_id|grp_name                                                     |grp_type|city     |\n+-------+---------------+--------+------+-------------------------------------------------------------+--------+---------+\n|India  |60000          |482012  |GRP142|Liberty General Insurance                                    |Private |Mumbai   |\n|India  |93000          |482046  |GRP133|DHFL General Insurance                                       |Private |Mumbai   |\n|India  |39000          |482024  |GRP135|Edelweiss General Insurance                                  |Private |Mumbai   |\n|India  |86000          |482004  |GRP153|Shriram General Insurance                                    |Private |Jaipur   |\n|India  |95000          |482003  |GRP154|Star Health and Allied Insurance                             |Private |Chennai  |\n|India  |71000          |482009  |GRP139|ICICI Lombard                                                |Private |Mumbai   |\n|India  |70000          |482006  |GRP107|TATA AIG Life Insurance Co. Ltd.                             |Private |Mumbai   |\n|India  |31000          |482044  |GRP151|Royal Sundaram General Insurance                             |Private |Chennai  |\n|India  |60000          |482006  |GRP125|Acko General Insurance                                       |Private |Mumbai   |\n|India  |84000          |482038  |GRP150|Religare Health Insurance Company Limited                    |Private |Gurgaon  |\n|India  |47000          |482046  |GRP119|Canara HSBC Oriental Bank of Commerce Life Insurance Co. Ltd.|Private |Gurugram |\n|India  |79000          |482036  |GRP115|Shriram Life Insurance Co. Ltd.                              |Private |Hyderabad|\n|India  |54000          |482022  |GRP140|IFFCO TOKIO General Insurance                                |Private |Gurugram |\n|India  |81000          |482033  |GRP124|Edelweiss Tokio Life Insurance Co. Ltd.                      |Private |Mumbai   |\n|India  |42000          |482036  |GRP130|Bharti AXA General Insurance                                 |Private |Mumbai   |\n|India  |67000          |482048  |GRP156|The Oriental Insurance Company                               |Govt.   |New Delhi|\n|India  |60000          |482020  |GRP127|Agriculture Insurance Company of India                       |Govt.   |New Delhi|\n|India  |63000          |482043  |GRP145|National Insurance Company                                   |Govt.   |Kolkata  |\n|India  |57000          |482011  |GRP111|PNB MetLife India Insurance Co. Ltd.                         |Private |Mumbai   |\n|India  |34000          |482005  |GRP136|Export Credit Guarantee Corporation of India                 |Govt.   |Mumbai   |\n+-------+---------------+--------+------+-------------------------------------------------------------+--------+---------+\nonly showing top 20 rows\n\n"
     ]
    }
   ],
   "source": [
    "# find distinct values\n",
    "Group.select(\"*\").distinct().show(truncate = False)"
   ]
  },
  {
   "cell_type": "code",
   "execution_count": 0,
   "metadata": {
    "application/vnd.databricks.v1+cell": {
     "cellMetadata": {
      "byteLimit": 2048000,
      "rowLimit": 10000
     },
     "inputWidgets": {},
     "nuid": "0408fb10-befa-414b-859d-f7ba1fbd65fb",
     "showTitle": false,
     "title": ""
    }
   },
   "outputs": [],
   "source": [
    "# to replace New Delhi with Delhi in city column\n",
    "Group = Group.replace([\"New Delhi\"], \"Delhi\",\"city\")"
   ]
  },
  {
   "cell_type": "code",
   "execution_count": 0,
   "metadata": {
    "application/vnd.databricks.v1+cell": {
     "cellMetadata": {
      "byteLimit": 2048000,
      "rowLimit": 10000
     },
     "inputWidgets": {},
     "nuid": "97360550-b6f2-4782-9c57-18a43e3a2290",
     "showTitle": false,
     "title": ""
    }
   },
   "outputs": [
    {
     "output_type": "stream",
     "name": "stdout",
     "output_type": "stream",
     "text": [
      "Distinct Count of country column: 1\nNull values Count of country column: 0\n\ncountry Column Start With Number: 0\ncountry Column Start With String: 58\ncountry Column Start With Spl.Cha: 0\ncountry Column contains string values: 58\ncountry Column contains number values: 0\ncountry Column contains Spl.Char values: 0\n\nDistinct Count of premium_written column: 39\nNull values Count of premium_written column: 0\n\npremium_written Column Start With Number: 58\npremium_written Column Start With String: 0\npremium_written Column Start With Spl.Cha: 0\npremium_written Column contains string values: 0\npremium_written Column contains number values: 58\npremium_written Column contains Spl.Char values: 0\n\nDistinct Count of zip_code column: 36\nNull values Count of zip_code column: 0\n\nzip_code Column Start With Number: 58\nzip_code Column Start With String: 0\nzip_code Column Start With Spl.Cha: 0\nzip_code Column contains string values: 0\nzip_code Column contains number values: 58\nzip_code Column contains Spl.Char values: 0\n\nDistinct Count of grp_id column: 58\nNull values Count of grp_id column: 0\n\ngrp_id Column Start With Number: 0\ngrp_id Column Start With String: 58\ngrp_id Column Start With Spl.Cha: 0\ngrp_id Column contains string values: 58\ngrp_id Column contains number values: 58\ngrp_id Column contains Spl.Char values: 0\n\nDistinct Count of grp_name column: 58\nNull values Count of grp_name column: 0\n\ngrp_name Column Start With Number: 0\ngrp_name Column Start With String: 58\ngrp_name Column Start With Spl.Cha: 0\ngrp_name Column contains string values: 58\ngrp_name Column contains number values: 0\ngrp_name Column contains Spl.Char values: 58\n\nDistinct Count of grp_type column: 2\nNull values Count of grp_type column: 0\n\ngrp_type Column Start With Number: 0\ngrp_type Column Start With String: 58\ngrp_type Column Start With Spl.Cha: 0\ngrp_type Column contains string values: 58\ngrp_type Column contains number values: 0\ngrp_type Column contains Spl.Char values: 7\n\nDistinct Count of city column: 11\nNull values Count of city column: 0\n\ncity Column Start With Number: 0\ncity Column Start With String: 58\ncity Column Start With Spl.Cha: 0\ncity Column contains string values: 58\ncity Column contains number values: 0\ncity Column contains Spl.Char values: 0\n\n"
     ]
    }
   ],
   "source": [
    "from pyspark.sql.functions import col, asc\n",
    "\n",
    "def analyze_columns(df):\n",
    "    columns = df.columns\n",
    "    for column in columns:\n",
    "        distinct_count = df.select(column).distinct().count()\n",
    "        null_count = df.filter(col(column).isNull()).count()\n",
    "        numeric_count = df.filter(col(column).rlike(\"^[0-9]\")).count()\n",
    "        text_count = df.filter(col(column).rlike(\"^[A-Za-z]\")).count()\n",
    "        special_char_count = df.filter(~col(column).rlike(\"^[A-Za-z0-9]\")).count()\n",
    "        contains_string = df.filter(col(column).rlike(\"[A-Za-z]\")).count()\n",
    "        contains_number = df.filter(col(column).rlike(\"[0-9]\")).count()\n",
    "        contains_spl_char = df.filter(col(column).rlike(\"[^A-Za-z0-9]\")).count()\n",
    "\n",
    "        print(\"Distinct Count of {} column: {}\".format(column, distinct_count))\n",
    "        print(\"Null values Count of {} column: {}\\n\".format(column, null_count))\n",
    "        print(\"{} Column Start With Number: {}\".format(column, numeric_count))\n",
    "        print(\"{} Column Start With String: {}\".format(column, text_count))\n",
    "        print(\"{} Column Start With Spl.Cha: {}\".format(column, special_char_count))\n",
    "        print(\"{} Column contains string values: {}\".format(column, contains_string))\n",
    "        print(\"{} Column contains number values: {}\".format(column, contains_number))\n",
    "        print(\"{} Column contains Spl.Char values: {}\\n\".format(column, contains_spl_char))\n",
    "        \n",
    "# Example usage:\n",
    "analyze_columns(Group)\n"
   ]
  },
  {
   "cell_type": "code",
   "execution_count": 0,
   "metadata": {
    "application/vnd.databricks.v1+cell": {
     "cellMetadata": {
      "byteLimit": 2048000,
      "rowLimit": 10000
     },
     "inputWidgets": {},
     "nuid": "58741ee3-6d77-4146-8ab1-e948ef21f825",
     "showTitle": false,
     "title": ""
    }
   },
   "outputs": [
    {
     "output_type": "execute_result",
     "data": {
      "text/plain": [
       "0"
      ]
     },
     "execution_count": 27,
     "metadata": {},
     "output_type": "execute_result"
    }
   ],
   "source": [
    "Group.filter(length(col(\"zip_code\")) < 6).count()"
   ]
  },
  {
   "cell_type": "code",
   "execution_count": 0,
   "metadata": {
    "application/vnd.databricks.v1+cell": {
     "cellMetadata": {
      "byteLimit": 2048000,
      "rowLimit": 10000
     },
     "inputWidgets": {},
     "nuid": "8b24a745-4645-4991-b7b6-296c3e56b235",
     "showTitle": false,
     "title": ""
    }
   },
   "outputs": [
    {
     "output_type": "execute_result",
     "data": {
      "text/plain": [
       "58"
      ]
     },
     "execution_count": 28,
     "metadata": {},
     "output_type": "execute_result"
    }
   ],
   "source": [
    "Group.filter(length(col(\"zip_code\")) == 6).count()"
   ]
  },
  {
   "cell_type": "code",
   "execution_count": 0,
   "metadata": {
    "application/vnd.databricks.v1+cell": {
     "cellMetadata": {
      "byteLimit": 2048000,
      "rowLimit": 10000
     },
     "inputWidgets": {},
     "nuid": "0f17a5a1-2666-476d-9c1d-9878de94aca6",
     "showTitle": false,
     "title": ""
    }
   },
   "outputs": [
    {
     "output_type": "execute_result",
     "data": {
      "text/plain": [
       "True"
      ]
     },
     "execution_count": 48,
     "metadata": {},
     "output_type": "execute_result"
    }
   ],
   "source": [
    "# Define the output container path\n",
    "output_container_path = \"abfss://optumdata@ksrdatadlsa.dfs.core.windows.net/StatgingData\"\n",
    "\n",
    "# Write the DataFrame to the output container path\n",
    "Group.coalesce(1).write.mode(\"overwrite\").option(\"header\", \"true\").format(\"com.databricks.spark.csv\").save(output_container_path)\n",
    "\n",
    "# List files in the output container path\n",
    "files = dbutils.fs.ls(output_container_path)\n",
    "\n",
    "# Filter out the output file\n",
    "output_file = [x for x in files if x.name.startswith(\"part-\")]\n",
    "\n",
    "# Move the output file to a specific location\n",
    "dbutils.fs.mv(output_file[0].path, \"%s/stg_Group.csv\" % output_container_path)\n"
   ]
  },
  {
   "cell_type": "code",
   "execution_count": 0,
   "metadata": {
    "application/vnd.databricks.v1+cell": {
     "cellMetadata": {},
     "inputWidgets": {},
     "nuid": "24705d76-c00a-4c60-a3ef-14265a804567",
     "showTitle": false,
     "title": ""
    }
   },
   "outputs": [],
   "source": []
  }
 ],
 "metadata": {
  "application/vnd.databricks.v1+notebook": {
   "dashboards": [],
   "language": "python",
   "notebookMetadata": {
    "pythonIndentUnit": 4
   },
   "notebookName": "Group_Data_Dev",
   "widgets": {}
  }
 },
 "nbformat": 4,
 "nbformat_minor": 0
}
