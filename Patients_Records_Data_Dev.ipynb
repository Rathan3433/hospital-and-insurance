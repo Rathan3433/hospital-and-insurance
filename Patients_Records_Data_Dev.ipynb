{
 "cells": [
  {
   "cell_type": "code",
   "execution_count": 0,
   "metadata": {
    "application/vnd.databricks.v1+cell": {
     "cellMetadata": {
      "byteLimit": 2048000,
      "rowLimit": 10000
     },
     "inputWidgets": {},
     "nuid": "3c2bd184-a541-44fa-857c-039f15d1305e",
     "showTitle": false,
     "title": ""
    }
   },
   "outputs": [],
   "source": [
    "import pyspark\n",
    "from pyspark.sql import *\n",
    "from pyspark.sql.functions import *\n",
    "from pyspark.sql.types import *"
   ]
  },
  {
   "cell_type": "code",
   "execution_count": 0,
   "metadata": {
    "application/vnd.databricks.v1+cell": {
     "cellMetadata": {
      "byteLimit": 2048000,
      "rowLimit": 10000
     },
     "inputWidgets": {},
     "nuid": "13705b71-092f-4a15-9c3e-ddac00eaa9d6",
     "showTitle": false,
     "title": ""
    }
   },
   "outputs": [
    {
     "output_type": "execute_result",
     "data": {
      "text/plain": [
       "[SecretScope(name='optumscope'), SecretScope(name='optumscope1')]"
      ]
     },
     "execution_count": 57,
     "metadata": {},
     "output_type": "execute_result"
    }
   ],
   "source": [
    "dbutils.secrets.listScopes()"
   ]
  },
  {
   "cell_type": "code",
   "execution_count": 0,
   "metadata": {
    "application/vnd.databricks.v1+cell": {
     "cellMetadata": {
      "byteLimit": 2048000,
      "rowLimit": 10000
     },
     "inputWidgets": {},
     "nuid": "963951f9-c9e0-4b56-be3b-442753cea4f3",
     "showTitle": false,
     "title": ""
    }
   },
   "outputs": [
    {
     "output_type": "execute_result",
     "data": {
      "text/plain": [
       "[SecretMetadata(key='optumkeysstore')]"
      ]
     },
     "execution_count": 58,
     "metadata": {},
     "output_type": "execute_result"
    }
   ],
   "source": [
    "dbutils.secrets.list(scope = \"optumscope1\")"
   ]
  },
  {
   "cell_type": "code",
   "execution_count": 0,
   "metadata": {
    "application/vnd.databricks.v1+cell": {
     "cellMetadata": {
      "byteLimit": 2048000,
      "rowLimit": 10000
     },
     "inputWidgets": {},
     "nuid": "006851fe-135d-44a2-a4ae-733f0502e14b",
     "showTitle": false,
     "title": ""
    }
   },
   "outputs": [],
   "source": [
    "spark.conf.set(\n",
    "    \"fs.azure.account.key.ksrdatadlsa.dfs.core.windows.net\",\n",
    "    dbutils.secrets.get(scope=\"optumscope1\", key=\"optumkeysstore\"))"
   ]
  },
  {
   "cell_type": "code",
   "execution_count": 0,
   "metadata": {
    "application/vnd.databricks.v1+cell": {
     "cellMetadata": {
      "byteLimit": 2048000,
      "rowLimit": 10000
     },
     "inputWidgets": {},
     "nuid": "b24a3a4c-f08d-4a51-a95d-92b6e1dbbabf",
     "showTitle": false,
     "title": ""
    }
   },
   "outputs": [
    {
     "output_type": "display_data",
     "data": {
      "text/html": [
       "<style scoped>\n",
       "  .table-result-container {\n",
       "    max-height: 300px;\n",
       "    overflow: auto;\n",
       "  }\n",
       "  table, th, td {\n",
       "    border: 1px solid black;\n",
       "    border-collapse: collapse;\n",
       "  }\n",
       "  th, td {\n",
       "    padding: 5px;\n",
       "  }\n",
       "  th {\n",
       "    text-align: left;\n",
       "  }\n",
       "</style><div class='table-result-container'><table class='table-result'><thead style='background-color: white'><tr><th>path</th><th>name</th><th>size</th><th>modificationTime</th></tr></thead><tbody><tr><td>abfss://optumdata@ksrdatadlsa.dfs.core.windows.net/RawData/Claims.csv</td><td>Claims.csv</td><td>5766</td><td>1715061116000</td></tr><tr><td>abfss://optumdata@ksrdatadlsa.dfs.core.windows.net/RawData/Hospital.csv</td><td>Hospital.csv</td><td>1528</td><td>1715061121000</td></tr><tr><td>abfss://optumdata@ksrdatadlsa.dfs.core.windows.net/RawData/Patient_records.csv</td><td>Patient_records.csv</td><td>5110</td><td>1715018546000</td></tr><tr><td>abfss://optumdata@ksrdatadlsa.dfs.core.windows.net/RawData/disease.csv</td><td>disease.csv</td><td>1489</td><td>1715018546000</td></tr><tr><td>abfss://optumdata@ksrdatadlsa.dfs.core.windows.net/RawData/group.csv</td><td>group.csv</td><td>4390</td><td>1715018546000</td></tr><tr><td>abfss://optumdata@ksrdatadlsa.dfs.core.windows.net/RawData/subgroup.csv</td><td>subgroup.csv</td><td>561</td><td>1715018546000</td></tr><tr><td>abfss://optumdata@ksrdatadlsa.dfs.core.windows.net/RawData/subscriber.csv</td><td>subscriber.csv</td><td>12061</td><td>1715018546000</td></tr></tbody></table></div>"
      ]
     },
     "metadata": {
      "application/vnd.databricks.v1+output": {
       "addedWidgets": {},
       "aggData": [],
       "aggError": "",
       "aggOverflow": false,
       "aggSchema": [],
       "aggSeriesLimitReached": false,
       "aggType": "",
       "arguments": {},
       "columnCustomDisplayInfos": {},
       "data": [
        [
         "abfss://optumdata@ksrdatadlsa.dfs.core.windows.net/RawData/Claims.csv",
         "Claims.csv",
         5766,
         1715061116000
        ],
        [
         "abfss://optumdata@ksrdatadlsa.dfs.core.windows.net/RawData/Hospital.csv",
         "Hospital.csv",
         1528,
         1715061121000
        ],
        [
         "abfss://optumdata@ksrdatadlsa.dfs.core.windows.net/RawData/Patient_records.csv",
         "Patient_records.csv",
         5110,
         1715018546000
        ],
        [
         "abfss://optumdata@ksrdatadlsa.dfs.core.windows.net/RawData/disease.csv",
         "disease.csv",
         1489,
         1715018546000
        ],
        [
         "abfss://optumdata@ksrdatadlsa.dfs.core.windows.net/RawData/group.csv",
         "group.csv",
         4390,
         1715018546000
        ],
        [
         "abfss://optumdata@ksrdatadlsa.dfs.core.windows.net/RawData/subgroup.csv",
         "subgroup.csv",
         561,
         1715018546000
        ],
        [
         "abfss://optumdata@ksrdatadlsa.dfs.core.windows.net/RawData/subscriber.csv",
         "subscriber.csv",
         12061,
         1715018546000
        ]
       ],
       "datasetInfos": [],
       "dbfsResultPath": null,
       "isJsonSchema": true,
       "metadata": {},
       "overflow": false,
       "plotOptions": {
        "customPlotOptions": {},
        "displayType": "table",
        "pivotAggregation": null,
        "pivotColumns": null,
        "xColumns": null,
        "yColumns": null
       },
       "removedWidgets": [],
       "schema": [
        {
         "metadata": "{}",
         "name": "path",
         "type": "\"string\""
        },
        {
         "metadata": "{}",
         "name": "name",
         "type": "\"string\""
        },
        {
         "metadata": "{}",
         "name": "size",
         "type": "\"long\""
        },
        {
         "metadata": "{}",
         "name": "modificationTime",
         "type": "\"long\""
        }
       ],
       "type": "table"
      }
     },
     "output_type": "display_data"
    }
   ],
   "source": [
    "display(dbutils.fs.ls(\"abfss://optumdata@ksrdatadlsa.dfs.core.windows.net/RawData\"))\n",
    "                      "
   ]
  },
  {
   "cell_type": "code",
   "execution_count": 0,
   "metadata": {
    "application/vnd.databricks.v1+cell": {
     "cellMetadata": {
      "byteLimit": 2048000,
      "rowLimit": 10000
     },
     "inputWidgets": {},
     "nuid": "82eca4b1-e2d4-4b2f-9681-f4c6f07e1d5f",
     "showTitle": false,
     "title": ""
    }
   },
   "outputs": [],
   "source": [
    "Patient_Records = spark.read.csv(\"abfss://optumdata@ksrdatadlsa.dfs.core.windows.net/RawData/Patient_records.csv\",header=True, inferSchema=True,escape='\"')"
   ]
  },
  {
   "cell_type": "code",
   "execution_count": 0,
   "metadata": {
    "application/vnd.databricks.v1+cell": {
     "cellMetadata": {
      "byteLimit": 2048000,
      "rowLimit": 10000
     },
     "inputWidgets": {},
     "nuid": "78d23725-4508-4754-b6c7-fe0dab5d8b7a",
     "showTitle": false,
     "title": ""
    }
   },
   "outputs": [
    {
     "output_type": "stream",
     "name": "stdout",
     "output_type": "stream",
     "text": [
      "+----------+------------+--------------+------------------+--------------+--------------+------------+-----------+\n|Patient_id|Patient_name|patient_gender|patient_birth_date|patient_phone |disease_name  |city        |hospital_id|\n+----------+------------+--------------+------------------+--------------+--------------+------------+-----------+\n|187158    |Harbir      |Female        |1924-06-30        |+91 0112009318|Galactosemia  |Rourkela    |H1001      |\n|112766    |Brahmdev    |Female        |1948-12-20        |+91 1727749552|Bladder cancer|Tiruvottiyur|H1016      |\n|199252    |Ujjawal     |Male          |1980-04-16        |+91 8547451606|Kidney cancer |Berhampur   |H1009      |\n|133424    |Ballari     |Female        |1969-09-25        |+91 0106026841|Suicide       |Bihar Sharif|H1017      |\n|172579    |Devnath     |Female        |1946-05-01        |+91 1868774631|Food allergy  |Bidhannagar |H1019      |\n+----------+------------+--------------+------------------+--------------+--------------+------------+-----------+\nonly showing top 5 rows\n\n"
     ]
    }
   ],
   "source": [
    "Patient_Records.show(5,False)"
   ]
  },
  {
   "cell_type": "code",
   "execution_count": 0,
   "metadata": {
    "application/vnd.databricks.v1+cell": {
     "cellMetadata": {
      "byteLimit": 2048000,
      "rowLimit": 10000
     },
     "inputWidgets": {},
     "nuid": "5904eb0f-ac60-4c89-8c7d-eee9dc4469d1",
     "showTitle": false,
     "title": ""
    }
   },
   "outputs": [
    {
     "output_type": "stream",
     "name": "stdout",
     "output_type": "stream",
     "text": [
      "root\n |-- Patient_id: integer (nullable = true)\n |-- Patient_name: string (nullable = true)\n |-- patient_gender: string (nullable = true)\n |-- patient_birth_date: date (nullable = true)\n |-- patient_phone: string (nullable = true)\n |-- disease_name: string (nullable = true)\n |-- city: string (nullable = true)\n |-- hospital_id: string (nullable = true)\n\n"
     ]
    }
   ],
   "source": [
    "# to find the Data types columns present in the table\n",
    "Patient_Records.printSchema()"
   ]
  },
  {
   "cell_type": "code",
   "execution_count": 0,
   "metadata": {
    "application/vnd.databricks.v1+cell": {
     "cellMetadata": {
      "byteLimit": 2048000,
      "rowLimit": 10000
     },
     "inputWidgets": {},
     "nuid": "f21eff21-fb79-4ae1-8387-68f063fc9705",
     "showTitle": false,
     "title": ""
    }
   },
   "outputs": [
    {
     "output_type": "execute_result",
     "data": {
      "text/plain": [
       "(70, 8)"
      ]
     },
     "execution_count": 64,
     "metadata": {},
     "output_type": "execute_result"
    }
   ],
   "source": [
    "# to find Rows count and Cloumn Count\n",
    "Patient_Records.count(),len(Patient_Records.columns)"
   ]
  },
  {
   "cell_type": "code",
   "execution_count": 0,
   "metadata": {
    "application/vnd.databricks.v1+cell": {
     "cellMetadata": {
      "byteLimit": 2048000,
      "rowLimit": 10000
     },
     "inputWidgets": {},
     "nuid": "5c3f24ba-cf5b-4004-8c07-3b21fe7de539",
     "showTitle": false,
     "title": ""
    }
   },
   "outputs": [],
   "source": [
    "# drop duplicates\n",
    "Patient_Records = Patient_Records.dropDuplicates()"
   ]
  },
  {
   "cell_type": "code",
   "execution_count": 0,
   "metadata": {
    "application/vnd.databricks.v1+cell": {
     "cellMetadata": {
      "byteLimit": 2048000,
      "rowLimit": 10000
     },
     "inputWidgets": {},
     "nuid": "46d49199-5838-4bd1-9bd1-78d6c3b4de89",
     "showTitle": false,
     "title": ""
    }
   },
   "outputs": [
    {
     "output_type": "execute_result",
     "data": {
      "text/plain": [
       "(70, 8)"
      ]
     },
     "execution_count": 66,
     "metadata": {},
     "output_type": "execute_result"
    }
   ],
   "source": [
    "# to verify Rows count and Cloumn Count\n",
    "Patient_Records.count(),len(Patient_Records.columns)"
   ]
  },
  {
   "cell_type": "code",
   "execution_count": 0,
   "metadata": {
    "application/vnd.databricks.v1+cell": {
     "cellMetadata": {
      "byteLimit": 2048000,
      "rowLimit": 10000
     },
     "inputWidgets": {},
     "nuid": "ca51b602-72cd-4346-a4c4-f355503303d9",
     "showTitle": false,
     "title": ""
    }
   },
   "outputs": [
    {
     "output_type": "stream",
     "name": "stdout",
     "output_type": "stream",
     "text": [
      "+----------+------------+--------------+------------------+-------------+------------+----+-----------+\n|Patient_id|Patient_name|patient_gender|patient_birth_date|patient_phone|disease_name|city|hospital_id|\n+----------+------------+--------------+------------------+-------------+------------+----+-----------+\n|         0|          17|             0|                 0|            2|           0|   0|          0|\n+----------+------------+--------------+------------------+-------------+------------+----+-----------+\n\n"
     ]
    }
   ],
   "source": [
    "# To find null values\n",
    "from pyspark.sql.functions import count, col, isnan, when\n",
    "Patient_Records.select([count(when(col(c).isNull(), c)).alias(c) for c in Patient_Records.columns]).show()\n",
    "\n"
   ]
  },
  {
   "cell_type": "code",
   "execution_count": 0,
   "metadata": {
    "application/vnd.databricks.v1+cell": {
     "cellMetadata": {
      "byteLimit": 2048000,
      "rowLimit": 10000
     },
     "inputWidgets": {},
     "nuid": "243490ba-17c2-46ea-b01b-e9dcd1cb884f",
     "showTitle": false,
     "title": ""
    }
   },
   "outputs": [],
   "source": [
    "Patient_Records = Patient_Records.fillna(\"Guest\",subset=[\"Patient_name\"])"
   ]
  },
  {
   "cell_type": "code",
   "execution_count": 0,
   "metadata": {
    "application/vnd.databricks.v1+cell": {
     "cellMetadata": {
      "byteLimit": 2048000,
      "rowLimit": 10000
     },
     "inputWidgets": {},
     "nuid": "6e7ebcd3-50c2-413e-8842-4e5a9762ec2c",
     "showTitle": false,
     "title": ""
    }
   },
   "outputs": [],
   "source": [
    "# drop phone number column\n",
    "Patient_Records = Patient_Records.fillna(\"NA\", subset=\"patient_phone\")\n"
   ]
  },
  {
   "cell_type": "code",
   "execution_count": 0,
   "metadata": {
    "application/vnd.databricks.v1+cell": {
     "cellMetadata": {
      "byteLimit": 2048000,
      "rowLimit": 10000
     },
     "inputWidgets": {},
     "nuid": "67eba580-e24c-4bff-b08c-0710b4035e81",
     "showTitle": false,
     "title": ""
    }
   },
   "outputs": [
    {
     "output_type": "stream",
     "name": "stdout",
     "output_type": "stream",
     "text": [
      "+----------+------------+--------------+------------------+--------------+-----------------+-----------+-----------+\n|Patient_id|Patient_name|patient_gender|patient_birth_date| patient_phone|     disease_name|       city|hospital_id|\n+----------+------------+--------------+------------------+--------------+-----------------+-----------+-----------+\n|    189996|       Ekant|          Male|        1943-08-13|+91 7686951174|          Measles| Berhampore|      H1003|\n|    109251|   Anjushree|          Male|        1976-07-04|+91 5322869455|          Choking|  Ghaziabad|      H1001|\n|    121783|     Paridhi|        Female|        1959-03-27|+91 2139280879|   Bladder cancer|   Jabalpur|      H1013|\n|    194166|       Guest|          Male|        1946-10-17|+91 9887324437|Colorectal cancer|  Baranagar|      H1015|\n|    156434|      Pushti|        Female|        1935-10-15|+91 7093722203|              Flu|      Morbi|      H1019|\n|    140394|      Jitesh|          Male|        1983-02-03|+91 6515468035|          Anthrax| Karimnagar|      H1010|\n|    114241|       Guest|        Female|        1955-01-22|+91 4146391938|    Breast cancer|  Ghaziabad|      H1015|\n|    132748|    Brahmvir|          Male|        1991-11-11|+91 7316972612|  Cystic fibrosis|     Ambala|      H1018|\n|    196369|       Guest|          Male|        1931-02-04|+91 2973105946|          Choking|   Shivpuri|      H1017|\n|    132947|       Saroj|        Female|        1942-08-26|+91 5690408243|          Anaemia|Muzaffarpur|      H1016|\n|    172579|     Devnath|        Female|        1946-05-01|+91 1868774631|     Food allergy|Bidhannagar|      H1019|\n|    132870|       Guest|        Female|        1924-11-09|+91 8906694405|         Glaucoma|   Jabalpur|      H1017|\n|    148674|   Ayushmati|          Male|        1932-09-20|+91 3683223970|         Diabetes|      Satna|      H1016|\n|    109342|  Chitranjan|        Female|        1925-09-09|+91 5176024720|           Asthma|      Morbi|      H1011|\n|    133107|     Drashti|          Male|        1926-07-03|+91 9447269993|       Lymphedema|    Saharsa|      H1019|\n|    146555|       Guest|          Male|        1948-11-10|+91 8390195092|  Phenylketonuria|   Vadodara|      H1007|\n|    156223|       Guest|        Female|        1930-11-25|            NA|  Fanconi anaemia|   Agartala|      H1012|\n|    195876|       Gopal|          Male|        1986-05-14|+91 1181471524|          Vertigo|  Raebareli|      H1017|\n|    197352|       Swati|        Female|        1987-12-11|+91 1028477510|      Pet allergy|   Amravati|      H1019|\n|    117945|       Guest|          Male|        1955-12-24|+91 2416747182|         Glaucoma| Karimnagar|      H1009|\n+----------+------------+--------------+------------------+--------------+-----------------+-----------+-----------+\nonly showing top 20 rows\n\n"
     ]
    }
   ],
   "source": [
    "Patient_Records.select(\"*\").show()"
   ]
  },
  {
   "cell_type": "code",
   "execution_count": 0,
   "metadata": {
    "application/vnd.databricks.v1+cell": {
     "cellMetadata": {
      "byteLimit": 2048000,
      "rowLimit": 10000
     },
     "inputWidgets": {},
     "nuid": "c8ed42a5-e1ac-45b6-b7ee-dc1f349cf325",
     "showTitle": false,
     "title": ""
    }
   },
   "outputs": [],
   "source": [
    "from pyspark.sql.functions import year, current_date, to_date\n",
    "# Convert the 'patient_birth_date' column to a DateType\n",
    "Patient_Records = Patient_Records.withColumn(\"patient_birth_date\", to_date(\"patient_birth_date\"))\n",
    "# Calculate the age based on the birth date\n",
    "Patient_Records = Patient_Records.withColumn(\"age\", year(current_date()) - year(\"patient_birth_date\"))"
   ]
  },
  {
   "cell_type": "code",
   "execution_count": 0,
   "metadata": {
    "application/vnd.databricks.v1+cell": {
     "cellMetadata": {
      "byteLimit": 2048000,
      "rowLimit": 10000
     },
     "inputWidgets": {},
     "nuid": "4ba93d7e-d02b-472e-a212-aefa691aaa1b",
     "showTitle": false,
     "title": ""
    }
   },
   "outputs": [
    {
     "output_type": "stream",
     "name": "stdout",
     "output_type": "stream",
     "text": [
      "+----------+------------+--------------+------------------+--------------+-----------------+-----------+-----------+---+\n|Patient_id|Patient_name|patient_gender|patient_birth_date| patient_phone|     disease_name|       city|hospital_id|age|\n+----------+------------+--------------+------------------+--------------+-----------------+-----------+-----------+---+\n|    189996|       Ekant|          Male|        1943-08-13|+91 7686951174|          Measles| Berhampore|      H1003| 81|\n|    109251|   Anjushree|          Male|        1976-07-04|+91 5322869455|          Choking|  Ghaziabad|      H1001| 48|\n|    121783|     Paridhi|        Female|        1959-03-27|+91 2139280879|   Bladder cancer|   Jabalpur|      H1013| 65|\n|    194166|       Guest|          Male|        1946-10-17|+91 9887324437|Colorectal cancer|  Baranagar|      H1015| 78|\n|    156434|      Pushti|        Female|        1935-10-15|+91 7093722203|              Flu|      Morbi|      H1019| 89|\n|    140394|      Jitesh|          Male|        1983-02-03|+91 6515468035|          Anthrax| Karimnagar|      H1010| 41|\n|    114241|       Guest|        Female|        1955-01-22|+91 4146391938|    Breast cancer|  Ghaziabad|      H1015| 69|\n|    132748|    Brahmvir|          Male|        1991-11-11|+91 7316972612|  Cystic fibrosis|     Ambala|      H1018| 33|\n|    196369|       Guest|          Male|        1931-02-04|+91 2973105946|          Choking|   Shivpuri|      H1017| 93|\n|    132947|       Saroj|        Female|        1942-08-26|+91 5690408243|          Anaemia|Muzaffarpur|      H1016| 82|\n|    172579|     Devnath|        Female|        1946-05-01|+91 1868774631|     Food allergy|Bidhannagar|      H1019| 78|\n|    132870|       Guest|        Female|        1924-11-09|+91 8906694405|         Glaucoma|   Jabalpur|      H1017|100|\n|    148674|   Ayushmati|          Male|        1932-09-20|+91 3683223970|         Diabetes|      Satna|      H1016| 92|\n|    109342|  Chitranjan|        Female|        1925-09-09|+91 5176024720|           Asthma|      Morbi|      H1011| 99|\n|    133107|     Drashti|          Male|        1926-07-03|+91 9447269993|       Lymphedema|    Saharsa|      H1019| 98|\n|    146555|       Guest|          Male|        1948-11-10|+91 8390195092|  Phenylketonuria|   Vadodara|      H1007| 76|\n|    156223|       Guest|        Female|        1930-11-25|            NA|  Fanconi anaemia|   Agartala|      H1012| 94|\n|    195876|       Gopal|          Male|        1986-05-14|+91 1181471524|          Vertigo|  Raebareli|      H1017| 38|\n|    197352|       Swati|        Female|        1987-12-11|+91 1028477510|      Pet allergy|   Amravati|      H1019| 37|\n|    117945|       Guest|          Male|        1955-12-24|+91 2416747182|         Glaucoma| Karimnagar|      H1009| 69|\n+----------+------------+--------------+------------------+--------------+-----------------+-----------+-----------+---+\nonly showing top 20 rows\n\n"
     ]
    }
   ],
   "source": [
    "Patient_Records.select(\"*\").show()"
   ]
  },
  {
   "cell_type": "code",
   "execution_count": 0,
   "metadata": {
    "application/vnd.databricks.v1+cell": {
     "cellMetadata": {
      "byteLimit": 2048000,
      "rowLimit": 10000
     },
     "inputWidgets": {},
     "nuid": "d5b73d20-b00f-41d7-8711-b3005380dd63",
     "showTitle": false,
     "title": ""
    }
   },
   "outputs": [],
   "source": [
    "Patient_Records = Patient_Records.drop(col(\"patient_birth_date\"))"
   ]
  },
  {
   "cell_type": "code",
   "execution_count": 0,
   "metadata": {
    "application/vnd.databricks.v1+cell": {
     "cellMetadata": {
      "byteLimit": 2048000,
      "rowLimit": 10000
     },
     "inputWidgets": {},
     "nuid": "9c40c15d-2c95-4b9a-bfbe-524c85e7bda6",
     "showTitle": false,
     "title": ""
    }
   },
   "outputs": [
    {
     "output_type": "stream",
     "name": "stdout",
     "output_type": "stream",
     "text": [
      "+----------+------------+--------------+--------------+-----------------+-----------+-----------+---+\n|Patient_id|Patient_name|patient_gender| patient_phone|     disease_name|       city|hospital_id|age|\n+----------+------------+--------------+--------------+-----------------+-----------+-----------+---+\n|    189996|       Ekant|          Male|+91 7686951174|          Measles| Berhampore|      H1003| 81|\n|    109251|   Anjushree|          Male|+91 5322869455|          Choking|  Ghaziabad|      H1001| 48|\n|    121783|     Paridhi|        Female|+91 2139280879|   Bladder cancer|   Jabalpur|      H1013| 65|\n|    194166|       Guest|          Male|+91 9887324437|Colorectal cancer|  Baranagar|      H1015| 78|\n|    156434|      Pushti|        Female|+91 7093722203|              Flu|      Morbi|      H1019| 89|\n|    140394|      Jitesh|          Male|+91 6515468035|          Anthrax| Karimnagar|      H1010| 41|\n|    114241|       Guest|        Female|+91 4146391938|    Breast cancer|  Ghaziabad|      H1015| 69|\n|    132748|    Brahmvir|          Male|+91 7316972612|  Cystic fibrosis|     Ambala|      H1018| 33|\n|    196369|       Guest|          Male|+91 2973105946|          Choking|   Shivpuri|      H1017| 93|\n|    132947|       Saroj|        Female|+91 5690408243|          Anaemia|Muzaffarpur|      H1016| 82|\n|    172579|     Devnath|        Female|+91 1868774631|     Food allergy|Bidhannagar|      H1019| 78|\n|    132870|       Guest|        Female|+91 8906694405|         Glaucoma|   Jabalpur|      H1017|100|\n|    148674|   Ayushmati|          Male|+91 3683223970|         Diabetes|      Satna|      H1016| 92|\n|    109342|  Chitranjan|        Female|+91 5176024720|           Asthma|      Morbi|      H1011| 99|\n|    133107|     Drashti|          Male|+91 9447269993|       Lymphedema|    Saharsa|      H1019| 98|\n|    146555|       Guest|          Male|+91 8390195092|  Phenylketonuria|   Vadodara|      H1007| 76|\n|    156223|       Guest|        Female|            NA|  Fanconi anaemia|   Agartala|      H1012| 94|\n|    195876|       Gopal|          Male|+91 1181471524|          Vertigo|  Raebareli|      H1017| 38|\n|    197352|       Swati|        Female|+91 1028477510|      Pet allergy|   Amravati|      H1019| 37|\n|    117945|       Guest|          Male|+91 2416747182|         Glaucoma| Karimnagar|      H1009| 69|\n+----------+------------+--------------+--------------+-----------------+-----------+-----------+---+\nonly showing top 20 rows\n\n"
     ]
    }
   ],
   "source": [
    "Patient_Records.select(\"*\").show()"
   ]
  },
  {
   "cell_type": "code",
   "execution_count": 0,
   "metadata": {
    "application/vnd.databricks.v1+cell": {
     "cellMetadata": {
      "byteLimit": 2048000,
      "rowLimit": 10000
     },
     "inputWidgets": {},
     "nuid": "97360550-b6f2-4782-9c57-18a43e3a2290",
     "showTitle": false,
     "title": ""
    }
   },
   "outputs": [
    {
     "output_type": "stream",
     "name": "stdout",
     "output_type": "stream",
     "text": [
      "Distinct Count of Patient_id column: 70\nNull values Count of Patient_id column: 0\n\nPatient_id Column Start With Number: 70\nPatient_id Column Start With String: 0\nPatient_id Column Start With Spl.Cha: 0\nPatient_id Column contains string values: 0\nPatient_id Column contains number values: 70\nPatient_id Column contains Spl.Char values: 0\n\nDistinct Count of Patient_name column: 53\nNull values Count of Patient_name column: 0\n\nPatient_name Column Start With Number: 0\nPatient_name Column Start With String: 70\nPatient_name Column Start With Spl.Cha: 0\nPatient_name Column contains string values: 70\nPatient_name Column contains number values: 0\nPatient_name Column contains Spl.Char values: 0\n\nDistinct Count of patient_gender column: 2\nNull values Count of patient_gender column: 0\n\npatient_gender Column Start With Number: 0\npatient_gender Column Start With String: 70\npatient_gender Column Start With Spl.Cha: 0\npatient_gender Column contains string values: 70\npatient_gender Column contains number values: 0\npatient_gender Column contains Spl.Char values: 0\n\nDistinct Count of patient_phone column: 69\nNull values Count of patient_phone column: 0\n\npatient_phone Column Start With Number: 0\npatient_phone Column Start With String: 2\npatient_phone Column Start With Spl.Cha: 68\npatient_phone Column contains string values: 2\npatient_phone Column contains number values: 68\npatient_phone Column contains Spl.Char values: 68\n\nDistinct Count of disease_name column: 41\nNull values Count of disease_name column: 0\n\ndisease_name Column Start With Number: 0\ndisease_name Column Start With String: 70\ndisease_name Column Start With Spl.Cha: 0\ndisease_name Column contains string values: 70\ndisease_name Column contains number values: 0\ndisease_name Column contains Spl.Char values: 27\n\nDistinct Count of city column: 62\nNull values Count of city column: 0\n\ncity Column Start With Number: 0\ncity Column Start With String: 70\ncity Column Start With Spl.Cha: 0\ncity Column contains string values: 70\ncity Column contains number values: 0\ncity Column contains Spl.Char values: 5\n\nDistinct Count of hospital_id column: 20\nNull values Count of hospital_id column: 0\n\nhospital_id Column Start With Number: 0\nhospital_id Column Start With String: 70\nhospital_id Column Start With Spl.Cha: 0\nhospital_id Column contains string values: 70\nhospital_id Column contains number values: 70\nhospital_id Column contains Spl.Char values: 0\n\nDistinct Count of age column: 45\nNull values Count of age column: 0\n\nage Column Start With Number: 70\nage Column Start With String: 0\nage Column Start With Spl.Cha: 0\nage Column contains string values: 0\nage Column contains number values: 70\nage Column contains Spl.Char values: 0\n\n"
     ]
    }
   ],
   "source": [
    "from pyspark.sql.functions import col, asc\n",
    "\n",
    "def analyze_columns(df):\n",
    "    columns = df.columns\n",
    "    for column in columns:\n",
    "        distinct_count = df.select(column).distinct().count()\n",
    "        null_count = df.filter(col(column).isNull()).count()\n",
    "        numeric_count = df.filter(col(column).rlike(\"^[0-9]\")).count()\n",
    "        text_count = df.filter(col(column).rlike(\"^[A-Za-z]\")).count()\n",
    "        special_char_count = df.filter(~col(column).rlike(\"^[A-Za-z0-9]\")).count()\n",
    "        contains_string = df.filter(col(column).rlike(\"[A-Za-z]\")).count()\n",
    "        contains_number = df.filter(col(column).rlike(\"[0-9]\")).count()\n",
    "        contains_spl_char = df.filter(col(column).rlike(\"[^A-Za-z0-9]\")).count()\n",
    "\n",
    "        print(\"Distinct Count of {} column: {}\".format(column, distinct_count))\n",
    "        print(\"Null values Count of {} column: {}\\n\".format(column, null_count))\n",
    "        print(\"{} Column Start With Number: {}\".format(column, numeric_count))\n",
    "        print(\"{} Column Start With String: {}\".format(column, text_count))\n",
    "        print(\"{} Column Start With Spl.Cha: {}\".format(column, special_char_count))\n",
    "        print(\"{} Column contains string values: {}\".format(column, contains_string))\n",
    "        print(\"{} Column contains number values: {}\".format(column, contains_number))\n",
    "        print(\"{} Column contains Spl.Char values: {}\\n\".format(column, contains_spl_char))\n",
    "        \n",
    "# Example usage:\n",
    "analyze_columns(Patient_Records)\n"
   ]
  },
  {
   "cell_type": "code",
   "execution_count": 0,
   "metadata": {
    "application/vnd.databricks.v1+cell": {
     "cellMetadata": {
      "byteLimit": 2048000,
      "rowLimit": 10000
     },
     "inputWidgets": {},
     "nuid": "0f17a5a1-2666-476d-9c1d-9878de94aca6",
     "showTitle": false,
     "title": ""
    }
   },
   "outputs": [],
   "source": [
    "# Define the output container path\n",
    "output_container_path = \"abfss://optumdata@ksrdatadlsa.dfs.core.windows.net/StatgingData\"\n",
    "\n",
    "# Write the DataFrame to the output container path\n",
    "Patient_Records.coalesce(1).write.mode(\"overwrite\").option(\"header\", \"true\").format(\"com.databricks.spark.csv\").save(output_container_path)\n",
    "\n",
    "# List files in the output container path\n",
    "files = dbutils.fs.ls(output_container_path)\n",
    "\n",
    "# Filter out the output file\n",
    "output_file = [x for x in files if x.name.startswith(\"part-\")]\n",
    "\n",
    "# Move the output file to a specific location\n",
    "dbutils.fs.mv(output_file[0].path, \"%s/stg_Patient_Records.csv\" % output_container_path)\n"
   ]
  },
  {
   "cell_type": "code",
   "execution_count": 0,
   "metadata": {
    "application/vnd.databricks.v1+cell": {
     "cellMetadata": {
      "byteLimit": 2048000,
      "rowLimit": 10000
     },
     "inputWidgets": {},
     "nuid": "24705d76-c00a-4c60-a3ef-14265a804567",
     "showTitle": false,
     "title": ""
    }
   },
   "outputs": [],
   "source": []
  }
 ],
 "metadata": {
  "application/vnd.databricks.v1+notebook": {
   "dashboards": [],
   "language": "python",
   "notebookMetadata": {
    "pythonIndentUnit": 4
   },
   "notebookName": "Patients_Records_Data_Dev",
   "widgets": {}
  }
 },
 "nbformat": 4,
 "nbformat_minor": 0
}
